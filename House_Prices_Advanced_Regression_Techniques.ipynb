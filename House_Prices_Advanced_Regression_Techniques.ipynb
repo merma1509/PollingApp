{
  "nbformat": 4,
  "nbformat_minor": 0,
  "metadata": {
    "colab": {
      "provenance": [],
      "authorship_tag": "ABX9TyPpJUfUy4qCqeEiavGzYow8",
      "include_colab_link": true
    },
    "kernelspec": {
      "name": "python3",
      "display_name": "Python 3"
    },
    "language_info": {
      "name": "python"
    }
  },
  "cells": [
    {
      "cell_type": "markdown",
      "metadata": {
        "id": "view-in-github",
        "colab_type": "text"
      },
      "source": [
        "<a href=\"https://colab.research.google.com/github/merma1509/PollingApp/blob/main/House_Prices_Advanced_Regression_Techniques.ipynb\" target=\"_parent\"><img src=\"https://colab.research.google.com/assets/colab-badge.svg\" alt=\"Open In Colab\"/></a>"
      ]
    },
    {
      "cell_type": "markdown",
      "source": [
        "\n",
        "\n",
        "```\n",
        "# Predict Slaes prices and practice feature engineering, RFIs, abd gradient boosting\n",
        "```\n",
        "\n"
      ],
      "metadata": {
        "id": "XsoChf5qHzvU"
      }
    },
    {
      "cell_type": "code",
      "source": [
        "!pip install category_encoders"
      ],
      "metadata": {
        "colab": {
          "base_uri": "https://localhost:8080/"
        },
        "id": "oNX2JzAkpKTC",
        "outputId": "a3690de7-bfd4-4952-89db-6a711f3b34fe"
      },
      "execution_count": null,
      "outputs": [
        {
          "output_type": "stream",
          "name": "stdout",
          "text": [
            "Collecting category_encoders\n",
            "  Downloading category_encoders-2.6.3-py2.py3-none-any.whl.metadata (8.0 kB)\n",
            "Requirement already satisfied: numpy>=1.14.0 in /usr/local/lib/python3.10/dist-packages (from category_encoders) (1.26.4)\n",
            "Requirement already satisfied: scikit-learn>=0.20.0 in /usr/local/lib/python3.10/dist-packages (from category_encoders) (1.3.2)\n",
            "Requirement already satisfied: scipy>=1.0.0 in /usr/local/lib/python3.10/dist-packages (from category_encoders) (1.13.1)\n",
            "Requirement already satisfied: statsmodels>=0.9.0 in /usr/local/lib/python3.10/dist-packages (from category_encoders) (0.14.2)\n",
            "Requirement already satisfied: pandas>=1.0.5 in /usr/local/lib/python3.10/dist-packages (from category_encoders) (2.1.4)\n",
            "Requirement already satisfied: patsy>=0.5.1 in /usr/local/lib/python3.10/dist-packages (from category_encoders) (0.5.6)\n",
            "Requirement already satisfied: python-dateutil>=2.8.2 in /usr/local/lib/python3.10/dist-packages (from pandas>=1.0.5->category_encoders) (2.8.2)\n",
            "Requirement already satisfied: pytz>=2020.1 in /usr/local/lib/python3.10/dist-packages (from pandas>=1.0.5->category_encoders) (2024.1)\n",
            "Requirement already satisfied: tzdata>=2022.1 in /usr/local/lib/python3.10/dist-packages (from pandas>=1.0.5->category_encoders) (2024.1)\n",
            "Requirement already satisfied: six in /usr/local/lib/python3.10/dist-packages (from patsy>=0.5.1->category_encoders) (1.16.0)\n",
            "Requirement already satisfied: joblib>=1.1.1 in /usr/local/lib/python3.10/dist-packages (from scikit-learn>=0.20.0->category_encoders) (1.4.2)\n",
            "Requirement already satisfied: threadpoolctl>=2.0.0 in /usr/local/lib/python3.10/dist-packages (from scikit-learn>=0.20.0->category_encoders) (3.5.0)\n",
            "Requirement already satisfied: packaging>=21.3 in /usr/local/lib/python3.10/dist-packages (from statsmodels>=0.9.0->category_encoders) (24.1)\n",
            "Downloading category_encoders-2.6.3-py2.py3-none-any.whl (81 kB)\n",
            "\u001b[2K   \u001b[90m━━━━━━━━━━━━━━━━━━━━━━━━━━━━━━━━━━━━━━━━\u001b[0m \u001b[32m81.9/81.9 kB\u001b[0m \u001b[31m727.0 kB/s\u001b[0m eta \u001b[36m0:00:00\u001b[0m\n",
            "\u001b[?25hInstalling collected packages: category_encoders\n",
            "Successfully installed category_encoders-2.6.3\n"
          ]
        }
      ]
    },
    {
      "cell_type": "markdown",
      "source": [
        "## Imports & Configuration"
      ],
      "metadata": {
        "id": "RUQ1mfL2Q70_"
      }
    },
    {
      "cell_type": "code",
      "source": [
        "# Connecting or Importing needed packages or Libraries\n",
        "import os\n",
        "import warnings\n",
        "from pathlib import Path\n",
        "\n",
        "import matplotlib.pyplot as plt\n",
        "import numpy as np\n",
        "import pandas as pd\n",
        "import seaborn as sns\n",
        "from IPython.display import display\n",
        "from pandas.api.types import CategoricalDtype\n",
        "\n",
        "from category_encoders import MEstimateEncoder\n",
        "from sklearn.cluster import KMeans\n",
        "from sklearn.decomposition import PCA\n",
        "from sklearn.feature_selection import mutual_info_regression\n",
        "from sklearn.model_selection import KFold, cross_val_score\n",
        "from xgboost import XGBRegressor\n",
        "\n",
        "# Set Matplotlib defaults\n",
        "sns.set_style('whitegrid')\n",
        "plt.rc('figure', autolayout=True)\n",
        "plt.rc(\n",
        "    'axes',\n",
        "    labelweight='bold',\n",
        "    labelsize='large',\n",
        "    titleweight='bold',\n",
        "    titlesize=14,\n",
        "    titlepad=10,\n",
        "    )\n",
        "\n",
        "# Mute warnings\n",
        "warnings.filterwarnings('ignore')"
      ],
      "metadata": {
        "id": "KAs53SSxNtTR"
      },
      "execution_count": null,
      "outputs": []
    },
    {
      "cell_type": "markdown",
      "source": [
        "## Data Preprocessing: Load, Clean, Encode & Impute\n",
        "\n",
        "```\n",
        "*  Load the needed data about house prices\n",
        "*  Clean the data to fix any errors or inconsistencies\n",
        "*  Encode the numerical or categorical data types\n",
        "*  Impute any missing values\n",
        "```"
      ],
      "metadata": {
        "id": "RqqHbr1NRqwu"
      }
    },
    {
      "cell_type": "code",
      "source": [
        "from google.colab import drive\n",
        "drive.mount('/content/drive')"
      ],
      "metadata": {
        "colab": {
          "base_uri": "https://localhost:8080/"
        },
        "id": "a_rye8VhJ0fE",
        "outputId": "88ac949d-9318-4455-ad15-e588888febec"
      },
      "execution_count": null,
      "outputs": [
        {
          "output_type": "stream",
          "name": "stdout",
          "text": [
            "Mounted at /content/drive\n"
          ]
        }
      ]
    },
    {
      "cell_type": "code",
      "source": [
        "# Some categorical features have typos compared to those in 'data_description.txt'\n",
        "data_dir = Path('/content/drive/MyDrive/Colab Notebooks/house-prices-advanced-regression-techniques') # please provide your folder path\n",
        "df = pd.read_csv(data_dir / 'train.csv', index_col='Id')\n",
        "\n",
        "df.Exterior2nd.unique()"
      ],
      "metadata": {
        "colab": {
          "base_uri": "https://localhost:8080/"
        },
        "id": "BWxbAo_PXdV9",
        "outputId": "581786e7-07f0-4e7d-ffe7-858f164f6b39"
      },
      "execution_count": null,
      "outputs": [
        {
          "output_type": "execute_result",
          "data": {
            "text/plain": [
              "array(['VinylSd', 'MetalSd', 'Wd Shng', 'HdBoard', 'Plywood', 'Wd Sdng',\n",
              "       'CmentBd', 'BrkFace', 'Stucco', 'AsbShng', 'Brk Cmn', 'ImStucc',\n",
              "       'AsphShn', 'Stone', 'Other', 'CBlock'], dtype=object)"
            ]
          },
          "metadata": {},
          "execution_count": 5
        }
      ]
    },
    {
      "cell_type": "code",
      "source": [
        "def clean(df):\n",
        "  df['Exterior2nd'] = df['Exterior2nd'].replace({'Brk Cmn': 'BrkComn'})\n",
        "  # Some values of GarageYrBlt are corrupt, so we'll replave them\n",
        "  # with the year the house was built\n",
        "  df['GarageYrBlt'] = df['GarageYrBlt'].where(df.GarageYrBlt <= 2010, df.YearBuilt)\n",
        "  # Names beginning with numbers are awkward to work with\n",
        "  df.rename(columns={\n",
        "      '1stFlrSF': 'FirstFlrSF',\n",
        "      '2ndFlrSF': 'SecondFlrSF',\n",
        "      '3SsnPorch': 'Threeseasonporch',\n",
        "  }, inplace=True,\n",
        "            )\n",
        "  return df"
      ],
      "metadata": {
        "id": "9Kb-6d5EYUCo"
      },
      "execution_count": null,
      "outputs": []
    },
    {
      "cell_type": "code",
      "source": [
        "# The numeric features are already encoded correctly ('float' for continuous,\n",
        "# `int` for discrete), but the categoricals we'll need to do ourselves.\n",
        "# Note in particular, the `MSSubClass`feature is read as `int`, but actually a nominative categorical.\n",
        "\n",
        "# The nominative (unordered) categorical features\n",
        "features_nom = [\"MSSubClass\", \"MSZoning\", \"Street\", \"Alley\", \"LandContour\", \"LotConfig\", \"Neighborhood\", \"Condition1\", \"Condition2\", \"BldgType\",\n",
        "                \"HouseStyle\", \"RoofStyle\", \"RoofMatl\", \"Exterior1st\", \"Exterior2nd\", \"MasVnrType\", \"Foundation\", \"Heating\", \"CentralAir\", \"GarageType\",\n",
        "                \"MiscFeature\", \"SaleType\", \"SaleCondition\"]\n",
        "\n",
        "# The ordinal (ordered) categorical features\n",
        "# Pandas calls the categories 'levels'\n",
        "five_levels = ['Po', 'Fa', 'TA', 'Gd', 'Ex']\n",
        "ten_levels = list(range(10))\n",
        "\n",
        "ordered_levels = {\n",
        "    \"OverallQual\": ten_levels,\n",
        "    \"OverallCond\": ten_levels,\n",
        "    \"ExterQual\": five_levels,\n",
        "    \"ExterCond\": five_levels,\n",
        "    \"BsmtQual\": five_levels,\n",
        "    \"BsmtCond\": five_levels,\n",
        "    \"HeatingQC\": five_levels,\n",
        "    \"KitchenQual\": five_levels,\n",
        "    \"FireplaceQu\": five_levels,\n",
        "    \"GarageQual\": five_levels,\n",
        "    \"GarageCond\": five_levels,\n",
        "    \"PoolQC\": five_levels,\n",
        "    \"LotShape\": [\"Reg\", \"IR1\", \"IR2\", \"IR3\"],\n",
        "    \"LandSlope\": [\"Sev\", \"Mod\", \"Gtl\"],\n",
        "    \"BsmtExposure\": [\"No\", \"Mn\", \"Av\", \"Gd\"],\n",
        "    \"BsmtFinType1\": [\"Unf\", \"LwQ\", \"Rec\", \"BLQ\", \"ALQ\", \"GLQ\"],\n",
        "    \"BsmtFinType2\": [\"Unf\", \"LwQ\", \"Rec\", \"BLQ\", \"ALQ\", \"GLQ\"],\n",
        "    \"Functional\": [\"Sal\", \"Sev\", \"Maj1\", \"Maj2\", \"Mod\", \"Min2\", \"Min1\", \"Typ\"],\n",
        "    \"GarageFinish\": [\"Unf\", \"RFn\", \"Fin\"],\n",
        "    \"PavedDrive\": [\"N\", \"P\", \"Y\"],\n",
        "    \"Utilities\": [\"NoSeWa\", \"NoSewr\", \"AllPub\"],\n",
        "    \"CentralAir\": [\"N\", \"Y\"],\n",
        "    \"Electrical\": [\"Mix\", \"FuseP\", \"FuseF\", \"FuseA\", \"SBrkr\"],\n",
        "    \"Fence\": [\"MnWw\", \"GdWo\", \"MnPrv\", \"GdPrv\"],\n",
        "    }\n",
        "\n",
        "# Add a None level for missing values\n",
        "ordered_levels = {key: ['None'] + value for key, value in ordered_levels.items()}\n",
        "\n",
        "def encode(df):\n",
        "  # Nominal categories\n",
        "  for name in features_nom:\n",
        "    df[name] = df[name].astype('category')\n",
        "    # Add a None category for missing values\n",
        "    if 'None' not in df[name].cat.categories:\n",
        "      df[name] = df[name].cat.add_categories('None')\n",
        "\n",
        "    # Ordinal categories\n",
        "    for name, levels in ordered_levels.items():\n",
        "      df[name] = df[name].astype(CategoricalDtype(levels, ordered=True))\n",
        "    return df"
      ],
      "metadata": {
        "id": "JR7Wy8DfZ0Sx"
      },
      "execution_count": null,
      "outputs": []
    },
    {
      "cell_type": "code",
      "source": [
        "# Handling Missing Numbers\n",
        "# You can use other kinds of Imputing like 'One-Hot Encoding', `Ordinal Encoding`, `Target Encoding` or Others\n",
        "def impute(df):\n",
        "  for name in df.select_dtypes('number'):\n",
        "    df[name] = df[name].fillna(0)\n",
        "\n",
        "  for name in df.select_dtypes('category'):\n",
        "    df[name] = df[name].fillna('None')\n",
        "  return df"
      ],
      "metadata": {
        "id": "QYtlR_RDeH7U"
      },
      "execution_count": null,
      "outputs": []
    },
    {
      "cell_type": "code",
      "source": [
        "def load_data():\n",
        "  # read our data\n",
        "  data_dir = Path('/content/drive/MyDrive/Colab Notebooks/house-prices-advanced-regression-techniques')\n",
        "  df_train = pd.read_csv(data_dir / 'train.csv', index_col='Id')\n",
        "  df_test = pd.read_csv(data_dir / 'test.csv', index_col='Id')\n",
        "\n",
        "  # Merge the splits so we can process them together\n",
        "  df = pd.concat([df_train, df_test])\n",
        "\n",
        "  # Preprocessing\n",
        "  df = clean(df)\n",
        "  df = encode(df)\n",
        "  df = impute(df)\n",
        "\n",
        "  # Reform splits\n",
        "  df_train = df.loc[df_train.index, :]\n",
        "  df_test = df.loc[df_test.index, :]\n",
        "  return df_train, df_test"
      ],
      "metadata": {
        "id": "mXzJXJNXUr9g"
      },
      "execution_count": null,
      "outputs": []
    },
    {
      "cell_type": "code",
      "source": [
        "df_train, df_test = load_data()"
      ],
      "metadata": {
        "id": "y46WrV-ZfmUU"
      },
      "execution_count": null,
      "outputs": []
    },
    {
      "cell_type": "code",
      "source": [
        "# Peek at the values\n",
        "# display(df_test)\n",
        "# display(df_train)"
      ],
      "metadata": {
        "id": "bLViW4cefrcX"
      },
      "execution_count": null,
      "outputs": []
    },
    {
      "cell_type": "code",
      "source": [
        "# Display information about dtypes and missing values\n",
        "# display(df_train.info())\n",
        "# display(df_test.info())"
      ],
      "metadata": {
        "id": "q7toT5L3hs3S"
      },
      "execution_count": null,
      "outputs": []
    },
    {
      "cell_type": "markdown",
      "source": [
        "## Establish Baseline\n"
      ],
      "metadata": {
        "id": "6yremNHYjluj"
      }
    },
    {
      "cell_type": "code",
      "source": [
        "def score_dataset(X, y, model=XGBRegressor()):\n",
        "    # Label encoding for categoricals\n",
        "    #\n",
        "    # Label encoding is good for XGBoost and RandomForest, but one-hot\n",
        "    # would be better for models like Lasso or Ridge. The `cat.codes`\n",
        "    # attribute holds the category levels.\n",
        "    for colname in X.select_dtypes([\"category\"]):\n",
        "        X[colname] = X[colname].cat.codes\n",
        "    # Metric for Housing competition is RMSLE (Root Mean Squared Log Error)\n",
        "    log_y = np.log(y)\n",
        "    score = cross_val_score(\n",
        "        model, X, log_y, cv=5, scoring=\"neg_mean_squared_error\", error_score='raise',\n",
        "    )\n",
        "    score = -1 * score.mean()\n",
        "    score = np.sqrt(score)\n",
        "    return score\n"
      ],
      "metadata": {
        "id": "7HWf5C59jDFJ"
      },
      "execution_count": null,
      "outputs": []
    },
    {
      "cell_type": "code",
      "source": [
        "X = df_train.copy()\n",
        "y = X.pop(\"SalePrice\")\n",
        "X = X.copy()\n",
        "for col in X.select_dtypes(include=['object']).columns:\n",
        "  X[col] = X[col].astype('category')\n",
        "\n",
        "baseline_score = score_dataset(X, y)\n",
        "print(f\"Baseline score: {baseline_score:.5f} RMSLE\")"
      ],
      "metadata": {
        "colab": {
          "base_uri": "https://localhost:8080/"
        },
        "id": "3IvO14zdlQQ0",
        "outputId": "a9c98d4a-e531-4063-d246-2ba3cb3f722b"
      },
      "execution_count": null,
      "outputs": [
        {
          "output_type": "stream",
          "name": "stdout",
          "text": [
            "Baseline score: 0.14454 RMSLE\n"
          ]
        }
      ]
    },
    {
      "cell_type": "code",
      "source": [
        "# Feature Utility Scores\n",
        "\n",
        "def make_mi_scores(X, y):\n",
        "    X = X.copy()\n",
        "    for colname in X.select_dtypes([\"object\", \"category\"]):\n",
        "        X[colname], _ = X[colname].factorize()\n",
        "    # All discrete features should now have integer dtypes\n",
        "    discrete_features = [pd.api.types.is_integer_dtype(t) for t in X.dtypes]\n",
        "    mi_scores = mutual_info_regression(X, y, discrete_features=discrete_features, random_state=0)\n",
        "    mi_scores = pd.Series(mi_scores, name=\"MI Scores\", index=X.columns)\n",
        "    mi_scores = mi_scores.sort_values(ascending=False)\n",
        "    return mi_scores\n",
        "\n",
        "\n",
        "def plot_mi_scores(scores):\n",
        "    scores = scores.sort_values(ascending=True)\n",
        "    width = np.arange(len(scores))\n",
        "    ticks = list(scores.index)\n",
        "    plt.barh(width, scores)\n",
        "    plt.yticks(width, ticks)\n",
        "    plt.title(\"Mutual Information Scores\")"
      ],
      "metadata": {
        "id": "wM9BQ4yjlrvX"
      },
      "execution_count": null,
      "outputs": []
    },
    {
      "cell_type": "code",
      "source": [
        "X = df_train.copy()\n",
        "y = X.pop(\"SalePrice\")\n",
        "\n",
        "mi_scores = make_mi_scores(X, y)\n",
        "mi_scores"
      ],
      "metadata": {
        "colab": {
          "base_uri": "https://localhost:8080/",
          "height": 458
        },
        "id": "NDl2zRZrrWa2",
        "outputId": "ba6de3a8-e501-4915-b46c-19227ff14dfd"
      },
      "execution_count": null,
      "outputs": [
        {
          "output_type": "execute_result",
          "data": {
            "text/plain": [
              "OverallQual     0.571457\n",
              "Neighborhood    0.526220\n",
              "GrLivArea       0.430395\n",
              "YearBuilt       0.407974\n",
              "LotArea         0.394468\n",
              "                  ...   \n",
              "PoolQC          0.000000\n",
              "MiscFeature     0.000000\n",
              "MiscVal         0.000000\n",
              "MoSold          0.000000\n",
              "YrSold          0.000000\n",
              "Name: MI Scores, Length: 79, dtype: float64"
            ],
            "text/html": [
              "<div>\n",
              "<style scoped>\n",
              "    .dataframe tbody tr th:only-of-type {\n",
              "        vertical-align: middle;\n",
              "    }\n",
              "\n",
              "    .dataframe tbody tr th {\n",
              "        vertical-align: top;\n",
              "    }\n",
              "\n",
              "    .dataframe thead th {\n",
              "        text-align: right;\n",
              "    }\n",
              "</style>\n",
              "<table border=\"1\" class=\"dataframe\">\n",
              "  <thead>\n",
              "    <tr style=\"text-align: right;\">\n",
              "      <th></th>\n",
              "      <th>MI Scores</th>\n",
              "    </tr>\n",
              "  </thead>\n",
              "  <tbody>\n",
              "    <tr>\n",
              "      <th>OverallQual</th>\n",
              "      <td>0.571457</td>\n",
              "    </tr>\n",
              "    <tr>\n",
              "      <th>Neighborhood</th>\n",
              "      <td>0.526220</td>\n",
              "    </tr>\n",
              "    <tr>\n",
              "      <th>GrLivArea</th>\n",
              "      <td>0.430395</td>\n",
              "    </tr>\n",
              "    <tr>\n",
              "      <th>YearBuilt</th>\n",
              "      <td>0.407974</td>\n",
              "    </tr>\n",
              "    <tr>\n",
              "      <th>LotArea</th>\n",
              "      <td>0.394468</td>\n",
              "    </tr>\n",
              "    <tr>\n",
              "      <th>...</th>\n",
              "      <td>...</td>\n",
              "    </tr>\n",
              "    <tr>\n",
              "      <th>PoolQC</th>\n",
              "      <td>0.000000</td>\n",
              "    </tr>\n",
              "    <tr>\n",
              "      <th>MiscFeature</th>\n",
              "      <td>0.000000</td>\n",
              "    </tr>\n",
              "    <tr>\n",
              "      <th>MiscVal</th>\n",
              "      <td>0.000000</td>\n",
              "    </tr>\n",
              "    <tr>\n",
              "      <th>MoSold</th>\n",
              "      <td>0.000000</td>\n",
              "    </tr>\n",
              "    <tr>\n",
              "      <th>YrSold</th>\n",
              "      <td>0.000000</td>\n",
              "    </tr>\n",
              "  </tbody>\n",
              "</table>\n",
              "<p>79 rows × 1 columns</p>\n",
              "</div><br><label><b>dtype:</b> float64</label>"
            ]
          },
          "metadata": {},
          "execution_count": 47
        }
      ]
    },
    {
      "cell_type": "code",
      "source": [
        "def drop_uninformative(df, mi_scores):\n",
        "  return df.loc[:, mi_scores > 0.0]"
      ],
      "metadata": {
        "id": "BWJPlG1Orjo6"
      },
      "execution_count": null,
      "outputs": []
    },
    {
      "cell_type": "code",
      "source": [
        "X = df_train.copy()\n",
        "y = X.pop(\"SalePrice\")\n",
        "X = drop_uninformative(X,  mi_scores)\n",
        "\n",
        "X = X.copy()\n",
        "for col in X.select_dtypes(include=['object']).columns:\n",
        "  X[col] = X[col].astype('category')\n",
        "score_dataset(X, y)"
      ],
      "metadata": {
        "colab": {
          "base_uri": "https://localhost:8080/"
        },
        "id": "6obVYEnWrzn9",
        "outputId": "e8ac5170-1d0c-4d8d-d427-e9197a1d5091"
      },
      "execution_count": null,
      "outputs": [
        {
          "output_type": "execute_result",
          "data": {
            "text/plain": [
              "0.14612535555906936"
            ]
          },
          "metadata": {},
          "execution_count": 51
        }
      ]
    },
    {
      "cell_type": "code",
      "source": [
        "#  Create Features\n",
        "def label_encode(df):\n",
        "  X = df.copy()\n",
        "  for colname in X.select_dtypes(['category']):\n",
        "    X[colname] = X[colname].cat.codes\n",
        "  return X"
      ],
      "metadata": {
        "id": "q2JGGHSor1NQ"
      },
      "execution_count": null,
      "outputs": []
    },
    {
      "cell_type": "code",
      "source": [
        "# Create Features With Pandas\n",
        "def mathematical_transforms(df):\n",
        "    X = pd.DataFrame()  # dataframe to hold new features\n",
        "    X[\"LivLotRatio\"] = df.GrLivArea / df.LotArea\n",
        "    X[\"Spaciousness\"] = (df.FirstFlrSF + df.SecondFlrSF) / df.TotRmsAbvGrd\n",
        "    # This feature ended up not helping performance\n",
        "    # X[\"TotalOutsideSF\"] = \\\n",
        "    #     df.WoodDeckSF + df.OpenPorchSF + df.EnclosedPorch + \\\n",
        "    #     df.Threeseasonporch + df.ScreenPorch\n",
        "    return X\n",
        "\n",
        "\n",
        "def interactions(df):\n",
        "    X = pd.get_dummies(df.BldgType, prefix=\"Bldg\")\n",
        "    X = X.mul(df.GrLivArea, axis=0)\n",
        "    return X\n",
        "\n",
        "\n",
        "def counts(df):\n",
        "    X = pd.DataFrame()\n",
        "    X[\"PorchTypes\"] = df[[\n",
        "        \"WoodDeckSF\",\n",
        "        \"OpenPorchSF\",\n",
        "        \"EnclosedPorch\",\n",
        "        \"Threeseasonporch\",\n",
        "        \"ScreenPorch\",\n",
        "    ]].gt(0.0).sum(axis=1)\n",
        "    return X\n",
        "\n",
        "\n",
        "def break_down(df):\n",
        "    X = pd.DataFrame()\n",
        "    X[\"MSClass\"] = df.MSSubClass.str.split(\"_\", n=1, expand=True)[0]\n",
        "    return X\n",
        "\n",
        "\n",
        "def group_transforms(df):\n",
        "    X = pd.DataFrame()\n",
        "    X[\"MedNhbdArea\"] = df.groupby(\"Neighborhood\")[\"GrLivArea\"].transform(\"median\")\n",
        "    return X\n"
      ],
      "metadata": {
        "id": "Bpr-YrfiwyJA"
      },
      "execution_count": null,
      "outputs": []
    },
    {
      "cell_type": "code",
      "source": [
        "#K-Means Clustering\n",
        "cluster_features = [\n",
        "    \"LotArea\",\n",
        "    \"TotalBsmtSF\",\n",
        "    \"FirstFlrSF\",\n",
        "    \"SecondFlrSF\",\n",
        "    \"GrLivArea\",\n",
        "]\n",
        "\n",
        "\n",
        "def cluster_labels(df, features, n_clusters=20):\n",
        "    X = df.copy()\n",
        "    X_scaled = X.loc[:, features]\n",
        "    X_scaled = (X_scaled - X_scaled.mean(axis=0)) / X_scaled.std(axis=0)\n",
        "    kmeans = KMeans(n_clusters=n_clusters, n_init=50, random_state=0)\n",
        "    X_new = pd.DataFrame()\n",
        "    X_new[\"Cluster\"] = kmeans.fit_predict(X_scaled)\n",
        "    return X_new\n",
        "\n",
        "\n",
        "def cluster_distance(df, features, n_clusters=20):\n",
        "    X = df.copy()\n",
        "    X_scaled = X.loc[:, features]\n",
        "    X_scaled = (X_scaled - X_scaled.mean(axis=0)) / X_scaled.std(axis=0)\n",
        "    kmeans = KMeans(n_clusters=20, n_init=50, random_state=0)\n",
        "    X_cd = kmeans.fit_transform(X_scaled)\n",
        "    # Label features and join to dataset\n",
        "    X_cd = pd.DataFrame(\n",
        "        X_cd, columns=[f\"Centroid_{i}\" for i in range(X_cd.shape[1])]\n",
        "    )\n",
        "    return X_cd"
      ],
      "metadata": {
        "id": "v3Bq4EmJzj9_"
      },
      "execution_count": null,
      "outputs": []
    },
    {
      "cell_type": "code",
      "source": [
        "# Principal Component Analysis, PCA\n",
        "def apply_pca(X, standardize=True):\n",
        "    # Standardize\n",
        "    if standardize:\n",
        "        X = (X - X.mean(axis=0)) / X.std(axis=0)\n",
        "    # Create principal components\n",
        "    pca = PCA()\n",
        "    X_pca = pca.fit_transform(X)\n",
        "    # Convert to dataframe\n",
        "    component_names = [f\"PC{i+1}\" for i in range(X_pca.shape[1])]\n",
        "    X_pca = pd.DataFrame(X_pca, columns=component_names)\n",
        "    # Create loadings\n",
        "    loadings = pd.DataFrame(\n",
        "        pca.components_.T,  # transpose the matrix of loadings\n",
        "        columns=component_names,  # so the columns are the principal components\n",
        "        index=X.columns,  # and the rows are the original features\n",
        "    )\n",
        "    return pca, X_pca, loadings\n",
        "\n",
        "\n",
        "def plot_variance(pca, width=8, dpi=100):\n",
        "    # Create figure\n",
        "    fig, axs = plt.subplots(1, 2)\n",
        "    n = pca.n_components_\n",
        "    grid = np.arange(1, n + 1)\n",
        "    # Explained variance\n",
        "    evr = pca.explained_variance_ratio_\n",
        "    axs[0].bar(grid, evr)\n",
        "    axs[0].set(\n",
        "        xlabel=\"Component\", title=\"% Explained Variance\", ylim=(0.0, 1.0)\n",
        "    )\n",
        "    # Cumulative Variance\n",
        "    cv = np.cumsum(evr)\n",
        "    axs[1].plot(np.r_[0, grid], np.r_[0, cv], \"o-\")\n",
        "    axs[1].set(\n",
        "        xlabel=\"Component\", title=\"% Cumulative Variance\", ylim=(0.0, 1.0)\n",
        "    )\n",
        "    # Set up figure\n",
        "    fig.set(figwidth=8, dpi=100)\n",
        "    return axs"
      ],
      "metadata": {
        "id": "oPkersLT0e92"
      },
      "execution_count": null,
      "outputs": []
    },
    {
      "cell_type": "code",
      "source": [
        "def pca_inspired(df):\n",
        "    X = pd.DataFrame()\n",
        "    X[\"Feature1\"] = df.GrLivArea + df.TotalBsmtSF\n",
        "    X[\"Feature2\"] = df.YearRemodAdd * df.TotalBsmtSF\n",
        "    return X\n",
        "\n",
        "\n",
        "def pca_components(df, features):\n",
        "    X = df.loc[:, features]\n",
        "    _, X_pca, _ = apply_pca(X)\n",
        "    return X_pca\n",
        "\n",
        "\n",
        "pca_features = [\n",
        "    \"GarageArea\",\n",
        "    \"YearRemodAdd\",\n",
        "    \"TotalBsmtSF\",\n",
        "    \"GrLivArea\",\n",
        "]"
      ],
      "metadata": {
        "id": "_0IkBTRH0zLf"
      },
      "execution_count": null,
      "outputs": []
    },
    {
      "cell_type": "code",
      "source": [
        "def corrplot(df, method=\"pearson\", annot=True, **kwargs):\n",
        "    sns.clustermap(\n",
        "        df.corr(method, numeric_only=True),\n",
        "        vmin=-1.0,\n",
        "        vmax=1.0,\n",
        "        cmap=\"icefire\",\n",
        "        method=\"complete\",\n",
        "        annot=annot,\n",
        "        **kwargs,\n",
        "    )\n",
        "\n",
        "\n",
        "corrplot(df_train, annot=None)"
      ],
      "metadata": {
        "colab": {
          "base_uri": "https://localhost:8080/",
          "height": 1000
        },
        "id": "udzHEJjO1N-D",
        "outputId": "349f8f73-a9a9-4113-e70c-ed0456b2ee69"
      },
      "execution_count": null,
      "outputs": [
        {
          "output_type": "display_data",
          "data": {
            "text/plain": [
              "<Figure size 1000x1000 with 4 Axes>"
            ],
            "image/png": "[encoded data removed]"
          },
          "metadata": {}
        }
      ]
    },
    {
      "cell_type": "code",
      "source": [
        "# PCA Application - Indicate Outliers\n",
        "def indicate_outliers(df):\n",
        "    X_new = pd.DataFrame()\n",
        "    X_new[\"Outlier\"] = (df.Neighborhood == \"Edwards\") & (df.SaleCondition == \"Partial\")\n",
        "    return X_new\n"
      ],
      "metadata": {
        "id": "DZGKN1KM1SID"
      },
      "execution_count": null,
      "outputs": []
    },
    {
      "cell_type": "code",
      "source": [
        "# Target Encoding\n",
        "class CrossFoldEncoder:\n",
        "    def __init__(self, encoder, **kwargs):\n",
        "        self.encoder_ = encoder\n",
        "        self.kwargs_ = kwargs  # keyword arguments for the encoder\n",
        "        self.cv_ = KFold(n_splits=5)\n",
        "\n",
        "    # Fit an encoder on one split and transform the feature on the\n",
        "    # other. Iterating over the splits in all folds gives a complete\n",
        "    # transformation. We also now have one trained encoder on each\n",
        "    # fold.\n",
        "    def fit_transform(self, X, y, cols):\n",
        "        self.fitted_encoders_ = []\n",
        "        self.cols_ = cols\n",
        "        X_encoded = []\n",
        "        for idx_encode, idx_train in self.cv_.split(X):\n",
        "            fitted_encoder = self.encoder_(cols=cols, **self.kwargs_)\n",
        "            fitted_encoder.fit(\n",
        "                X.iloc[idx_encode, :], y.iloc[idx_encode],\n",
        "            )\n",
        "            X_encoded.append(fitted_encoder.transform(X.iloc[idx_train, :])[cols])\n",
        "            self.fitted_encoders_.append(fitted_encoder)\n",
        "        X_encoded = pd.concat(X_encoded)\n",
        "        X_encoded.columns = [name + \"_encoded\" for name in X_encoded.columns]\n",
        "        return X_encoded\n",
        "\n",
        "    # To transform the test data, average the encodings learned from\n",
        "    # each fold.\n",
        "    def transform(self, X):\n",
        "        from functools import reduce\n",
        "\n",
        "        X_encoded_list = []\n",
        "        for fitted_encoder in self.fitted_encoders_:\n",
        "            X_encoded = fitted_encoder.transform(X)\n",
        "            X_encoded_list.append(X_encoded[self.cols_])\n",
        "        X_encoded = reduce(\n",
        "            lambda x, y: x.add(y, fill_value=0), X_encoded_list\n",
        "        ) / len(X_encoded_list)\n",
        "        X_encoded.columns = [name + \"_encoded\" for name in X_encoded.columns]\n",
        "        return X_encoded\n"
      ],
      "metadata": {
        "id": "K4GFGUwj1pfr"
      },
      "execution_count": null,
      "outputs": []
    },
    {
      "cell_type": "code",
      "source": [
        "def create_features(df, df_test=None):\n",
        "    X = df.copy()\n",
        "    y = X.pop(\"SalePrice\")\n",
        "    mi_scores = make_mi_scores(X, y)\n",
        "\n",
        "    # Combine splits if test data is given\n",
        "    #\n",
        "    # If we're creating features for test set predictions, we should\n",
        "    # use all the data we have available. After creating our features,\n",
        "    # we'll recreate the splits.\n",
        "    if df_test is not None:\n",
        "        X_test = df_test.copy()\n",
        "        X_test.pop(\"SalePrice\")\n",
        "        X = pd.concat([X, X_test])\n",
        "\n",
        "    # Lesson 2 - Mutual Information\n",
        "    X = drop_uninformative(X, mi_scores)\n",
        "\n",
        "    # Lesson 3 - Transformations\n",
        "    X = X.join(mathematical_transforms(X))\n",
        "    X = X.join(interactions(X))\n",
        "    X = X.join(counts(X))\n",
        "    # X = X.join(break_down(X))\n",
        "    X = X.join(group_transforms(X))\n",
        "\n",
        "    # Lesson 4 - Clustering\n",
        "    # X = X.join(cluster_labels(X, cluster_features, n_clusters=20))\n",
        "    # X = X.join(cluster_distance(X, cluster_features, n_clusters=20))\n",
        "\n",
        "    # Lesson 5 - PCA\n",
        "    X = X.join(pca_inspired(X))\n",
        "    # X = X.join(pca_components(X, pca_features))\n",
        "    # X = X.join(indicate_outliers(X))\n",
        "\n",
        "    X = label_encode(X)\n",
        "\n",
        "    # Reform splits\n",
        "    if df_test is not None:\n",
        "        X_test = X.loc[df_test.index, :]\n",
        "        X.drop(df_test.index, inplace=True)\n",
        "\n",
        "    # Lesson 6 - Target Encoder\n",
        "    encoder = CrossFoldEncoder(MEstimateEncoder, m=1)\n",
        "    X = X.join(encoder.fit_transform(X, y, cols=[\"MSSubClass\"]))\n",
        "    if df_test is not None:\n",
        "        X_test = X_test.join(encoder.transform(X_test))\n",
        "\n",
        "    if df_test is not None:\n",
        "        return X, X_test\n",
        "    else:\n",
        "        return X\n",
        "\n",
        "\n",
        "df_train, df_test = load_data()\n",
        "X_train = create_features(df_train)\n",
        "y_train = df_train.loc[:, \"SalePrice\"]\n",
        "\n",
        "X_train = X_train.copy()\n",
        "for col in X_train.select_dtypes(include=['object']).columns:\n",
        "  X_train[col] = X_train[col].astype('category')\n",
        "score_dataset(X_train, y_train)"
      ],
      "metadata": {
        "colab": {
          "base_uri": "https://localhost:8080/"
        },
        "id": "7cA6lzpo1wNe",
        "outputId": "afa010b9-f081-4921-8cb2-cfdec63524e7"
      },
      "execution_count": null,
      "outputs": [
        {
          "output_type": "execute_result",
          "data": {
            "text/plain": [
              "0.13732847864743686"
            ]
          },
          "metadata": {},
          "execution_count": 74
        }
      ]
    },
    {
      "cell_type": "code",
      "source": [
        "# Hyperparameter Tuning\n",
        "X_train = create_features(df_train)\n",
        "y_train = df_train.loc[:, \"SalePrice\"]\n",
        "\n",
        "xgb_params = dict(\n",
        "    max_depth=6,           # maximum depth of each tree - try 2 to 10\n",
        "    learning_rate=0.01,    # effect of each tree - try 0.0001 to 0.1\n",
        "    n_estimators=1000,     # number of trees (that is, boosting rounds) - try 1000 to 8000\n",
        "    min_child_weight=1,    # minimum number of houses in a leaf - try 1 to 10\n",
        "    colsample_bytree=0.7,  # fraction of features (columns) per tree - try 0.2 to 1.0\n",
        "    subsample=0.7,         # fraction of instances (rows) per tree - try 0.2 to 1.0\n",
        "    reg_alpha=0.5,         # L1 regularization (like LASSO) - try 0.0 to 10.0\n",
        "    reg_lambda=1.0,        # L2 regularization (like Ridge) - try 0.0 to 10.0\n",
        "    num_parallel_tree=1,   # set > 1 for boosted random forests\n",
        ")\n",
        "\n",
        "X_train = X_train.copy()\n",
        "for col in X_train.select_dtypes(include=['object']).columns:\n",
        "  X_train[col] = X_train[col].astype('category')\n",
        "xgb = XGBRegressor(**xgb_params)\n",
        "score_dataset(X_train, y_train, xgb)"
      ],
      "metadata": {
        "colab": {
          "base_uri": "https://localhost:8080/"
        },
        "id": "L8eIkQOx3DO9",
        "outputId": "2296e699-72d5-4a94-b4f9-c848f5154f75"
      },
      "execution_count": null,
      "outputs": [
        {
          "output_type": "execute_result",
          "data": {
            "text/plain": [
              "0.1253312403715493"
            ]
          },
          "metadata": {},
          "execution_count": 76
        }
      ]
    },
    {
      "cell_type": "markdown",
      "source": [
        "## Train Model"
      ],
      "metadata": {
        "id": "0X3bzH8c4x4-"
      }
    },
    {
      "cell_type": "code",
      "source": [
        "X_train, X_test = create_features(df_train, df_test)\n",
        "y_train = df_train.loc[:, \"SalePrice\"]\n",
        "X_train = X_train.copy()\n",
        "for col in X_train.select_dtypes(include=['object']).columns:\n",
        "  X_train[col] = X_train[col].astype('category')\n",
        "  X_test[col] = X_test[col].astype('category')\n",
        "xgb = XGBRegressor(enable_categorical=True)\n",
        "# XGB minimizes MSE, but competition loss is RMSLE\n",
        "# So, we need to log-transform y to train and exp-transform the predictions\n",
        "\n",
        "xgb.fit(X_train, np.log(y))\n",
        "predictions = np.exp(xgb.predict(X_test))\n",
        "\n",
        "\n",
        "output = pd.DataFrame({'Id': X_test.index, 'SalePrice':predictions})\n",
        "output.to_csv('my_submissions.csv', index=False)\n",
        "print('Your Submission Was Successfully Saved!')"
      ],
      "metadata": {
        "colab": {
          "base_uri": "https://localhost:8080/"
        },
        "id": "imcdz3Gr4keZ",
        "outputId": "7d7f10af-335f-4b6a-d04e-80e284ae3071"
      },
      "execution_count": 81,
      "outputs": [
        {
          "output_type": "stream",
          "name": "stdout",
          "text": [
            "Your Submission Was Successfully Saved!\n"
          ]
        }
      ]
    },
    {
      "cell_type": "code",
      "source": [
        "pd.read_csv('my_submissions.csv')"
      ],
      "metadata": {
        "id": "R-XusdDf6I-h",
        "colab": {
          "base_uri": "https://localhost:8080/",
          "height": 423
        },
        "outputId": "20a9a338-a186-47b0-c624-4b31ced7cdb5"
      },
      "execution_count": 82,
      "outputs": [
        {
          "output_type": "execute_result",
          "data": {
            "text/plain": [
              "        Id   SalePrice\n",
              "0     1461  128838.445\n",
              "1     1462  181194.020\n",
              "2     1463  187827.280\n",
              "3     1464  195687.020\n",
              "4     1465  179841.900\n",
              "...    ...         ...\n",
              "1454  2915   76651.440\n",
              "1455  2916   77991.470\n",
              "1456  2917  144672.100\n",
              "1457  2918  122874.625\n",
              "1458  2919  195781.670\n",
              "\n",
              "[1459 rows x 2 columns]"
            ],
            "text/html": [
              "\n",
              "  <div id=\"df-204d6eed-a600-45b2-890f-6fa6521c144f\" class=\"colab-df-container\">\n",
              "    <div>\n",
              "<style scoped>\n",
              "    .dataframe tbody tr th:only-of-type {\n",
              "        vertical-align: middle;\n",
              "    }\n",
              "\n",
              "    .dataframe tbody tr th {\n",
              "        vertical-align: top;\n",
              "    }\n",
              "\n",
              "    .dataframe thead th {\n",
              "        text-align: right;\n",
              "    }\n",
              "</style>\n",
              "<table border=\"1\" class=\"dataframe\">\n",
              "  <thead>\n",
              "    <tr style=\"text-align: right;\">\n",
              "      <th></th>\n",
              "      <th>Id</th>\n",
              "      <th>SalePrice</th>\n",
              "    </tr>\n",
              "  </thead>\n",
              "  <tbody>\n",
              "    <tr>\n",
              "      <th>0</th>\n",
              "      <td>1461</td>\n",
              "      <td>128838.445</td>\n",
              "    </tr>\n",
              "    <tr>\n",
              "      <th>1</th>\n",
              "      <td>1462</td>\n",
              "      <td>181194.020</td>\n",
              "    </tr>\n",
              "    <tr>\n",
              "      <th>2</th>\n",
              "      <td>1463</td>\n",
              "      <td>187827.280</td>\n",
              "    </tr>\n",
              "    <tr>\n",
              "      <th>3</th>\n",
              "      <td>1464</td>\n",
              "      <td>195687.020</td>\n",
              "    </tr>\n",
              "    <tr>\n",
              "      <th>4</th>\n",
              "      <td>1465</td>\n",
              "      <td>179841.900</td>\n",
              "    </tr>\n",
              "    <tr>\n",
              "      <th>...</th>\n",
              "      <td>...</td>\n",
              "      <td>...</td>\n",
              "    </tr>\n",
              "    <tr>\n",
              "      <th>1454</th>\n",
              "      <td>2915</td>\n",
              "      <td>76651.440</td>\n",
              "    </tr>\n",
              "    <tr>\n",
              "      <th>1455</th>\n",
              "      <td>2916</td>\n",
              "      <td>77991.470</td>\n",
              "    </tr>\n",
              "    <tr>\n",
              "      <th>1456</th>\n",
              "      <td>2917</td>\n",
              "      <td>144672.100</td>\n",
              "    </tr>\n",
              "    <tr>\n",
              "      <th>1457</th>\n",
              "      <td>2918</td>\n",
              "      <td>122874.625</td>\n",
              "    </tr>\n",
              "    <tr>\n",
              "      <th>1458</th>\n",
              "      <td>2919</td>\n",
              "      <td>195781.670</td>\n",
              "    </tr>\n",
              "  </tbody>\n",
              "</table>\n",
              "<p>1459 rows × 2 columns</p>\n",
              "</div>\n",
              "    <div class=\"colab-df-buttons\">\n",
              "\n",
              "  <div class=\"colab-df-container\">\n",
              "    <button class=\"colab-df-convert\" onclick=\"convertToInteractive('df-204d6eed-a600-45b2-890f-6fa6521c144f')\"\n",
              "            title=\"Convert this dataframe to an interactive table.\"\n",
              "            style=\"display:none;\">\n",
              "\n",
              "  <svg xmlns=\"http://www.w3.org/2000/svg\" height=\"24px\" viewBox=\"0 -960 960 960\">\n",
              "    <path d=\"M120-120v-720h720v720H120Zm60-500h600v-160H180v160Zm220 220h160v-160H400v160Zm0 220h160v-160H400v160ZM180-400h160v-160H180v160Zm440 0h160v-160H620v160ZM180-180h160v-160H180v160Zm440 0h160v-160H620v160Z\"/>\n",
              "  </svg>\n",
              "    </button>\n",
              "\n",
              "  <style>\n",
              "    .colab-df-container {\n",
              "      display:flex;\n",
              "      gap: 12px;\n",
              "    }\n",
              "\n",
              "    .colab-df-convert {\n",
              "      background-color: #E8F0FE;\n",
              "      border: none;\n",
              "      border-radius: 50%;\n",
              "      cursor: pointer;\n",
              "      display: none;\n",
              "      fill: #1967D2;\n",
              "      height: 32px;\n",
              "      padding: 0 0 0 0;\n",
              "      width: 32px;\n",
              "    }\n",
              "\n",
              "    .colab-df-convert:hover {\n",
              "      background-color: #E2EBFA;\n",
              "      box-shadow: 0px 1px 2px rgba(60, 64, 67, 0.3), 0px 1px 3px 1px rgba(60, 64, 67, 0.15);\n",
              "      fill: #174EA6;\n",
              "    }\n",
              "\n",
              "    .colab-df-buttons div {\n",
              "      margin-bottom: 4px;\n",
              "    }\n",
              "\n",
              "    [theme=dark] .colab-df-convert {\n",
              "      background-color: #3B4455;\n",
              "      fill: #D2E3FC;\n",
              "    }\n",
              "\n",
              "    [theme=dark] .colab-df-convert:hover {\n",
              "      background-color: #434B5C;\n",
              "      box-shadow: 0px 1px 3px 1px rgba(0, 0, 0, 0.15);\n",
              "      filter: drop-shadow(0px 1px 2px rgba(0, 0, 0, 0.3));\n",
              "      fill: #FFFFFF;\n",
              "    }\n",
              "  </style>\n",
              "\n",
              "    <script>\n",
              "      const buttonEl =\n",
              "        document.querySelector('#df-204d6eed-a600-45b2-890f-6fa6521c144f button.colab-df-convert');\n",
              "      buttonEl.style.display =\n",
              "        google.colab.kernel.accessAllowed ? 'block' : 'none';\n",
              "\n",
              "      async function convertToInteractive(key) {\n",
              "        const element = document.querySelector('#df-204d6eed-a600-45b2-890f-6fa6521c144f');\n",
              "        const dataTable =\n",
              "          await google.colab.kernel.invokeFunction('convertToInteractive',\n",
              "                                                    [key], {});\n",
              "        if (!dataTable) return;\n",
              "\n",
              "        const docLinkHtml = 'Like what you see? Visit the ' +\n",
              "          '<a target=\"_blank\" href=https://colab.research.google.com/notebooks/data_table.ipynb>data table notebook</a>'\n",
              "          + ' to learn more about interactive tables.';\n",
              "        element.innerHTML = '';\n",
              "        dataTable['output_type'] = 'display_data';\n",
              "        await google.colab.output.renderOutput(dataTable, element);\n",
              "        const docLink = document.createElement('div');\n",
              "        docLink.innerHTML = docLinkHtml;\n",
              "        element.appendChild(docLink);\n",
              "      }\n",
              "    </script>\n",
              "  </div>\n",
              "\n",
              "\n",
              "<div id=\"df-44831d86-5a1a-4a3c-aceb-675321b8b9bd\">\n",
              "  <button class=\"colab-df-quickchart\" onclick=\"quickchart('df-44831d86-5a1a-4a3c-aceb-675321b8b9bd')\"\n",
              "            title=\"Suggest charts\"\n",
              "            style=\"display:none;\">\n",
              "\n",
              "<svg xmlns=\"http://www.w3.org/2000/svg\" height=\"24px\"viewBox=\"0 0 24 24\"\n",
              "     width=\"24px\">\n",
              "    <g>\n",
              "        <path d=\"M19 3H5c-1.1 0-2 .9-2 2v14c0 1.1.9 2 2 2h14c1.1 0 2-.9 2-2V5c0-1.1-.9-2-2-2zM9 17H7v-7h2v7zm4 0h-2V7h2v10zm4 0h-2v-4h2v4z\"/>\n",
              "    </g>\n",
              "</svg>\n",
              "  </button>\n",
              "\n",
              "<style>\n",
              "  .colab-df-quickchart {\n",
              "      --bg-color: #E8F0FE;\n",
              "      --fill-color: #1967D2;\n",
              "      --hover-bg-color: #E2EBFA;\n",
              "      --hover-fill-color: #174EA6;\n",
              "      --disabled-fill-color: #AAA;\n",
              "      --disabled-bg-color: #DDD;\n",
              "  }\n",
              "\n",
              "  [theme=dark] .colab-df-quickchart {\n",
              "      --bg-color: #3B4455;\n",
              "      --fill-color: #D2E3FC;\n",
              "      --hover-bg-color: #434B5C;\n",
              "      --hover-fill-color: #FFFFFF;\n",
              "      --disabled-bg-color: #3B4455;\n",
              "      --disabled-fill-color: #666;\n",
              "  }\n",
              "\n",
              "  .colab-df-quickchart {\n",
              "    background-color: var(--bg-color);\n",
              "    border: none;\n",
              "    border-radius: 50%;\n",
              "    cursor: pointer;\n",
              "    display: none;\n",
              "    fill: var(--fill-color);\n",
              "    height: 32px;\n",
              "    padding: 0;\n",
              "    width: 32px;\n",
              "  }\n",
              "\n",
              "  .colab-df-quickchart:hover {\n",
              "    background-color: var(--hover-bg-color);\n",
              "    box-shadow: 0 1px 2px rgba(60, 64, 67, 0.3), 0 1px 3px 1px rgba(60, 64, 67, 0.15);\n",
              "    fill: var(--button-hover-fill-color);\n",
              "  }\n",
              "\n",
              "  .colab-df-quickchart-complete:disabled,\n",
              "  .colab-df-quickchart-complete:disabled:hover {\n",
              "    background-color: var(--disabled-bg-color);\n",
              "    fill: var(--disabled-fill-color);\n",
              "    box-shadow: none;\n",
              "  }\n",
              "\n",
              "  .colab-df-spinner {\n",
              "    border: 2px solid var(--fill-color);\n",
              "    border-color: transparent;\n",
              "    border-bottom-color: var(--fill-color);\n",
              "    animation:\n",
              "      spin 1s steps(1) infinite;\n",
              "  }\n",
              "\n",
              "  @keyframes spin {\n",
              "    0% {\n",
              "      border-color: transparent;\n",
              "      border-bottom-color: var(--fill-color);\n",
              "      border-left-color: var(--fill-color);\n",
              "    }\n",
              "    20% {\n",
              "      border-color: transparent;\n",
              "      border-left-color: var(--fill-color);\n",
              "      border-top-color: var(--fill-color);\n",
              "    }\n",
              "    30% {\n",
              "      border-color: transparent;\n",
              "      border-left-color: var(--fill-color);\n",
              "      border-top-color: var(--fill-color);\n",
              "      border-right-color: var(--fill-color);\n",
              "    }\n",
              "    40% {\n",
              "      border-color: transparent;\n",
              "      border-right-color: var(--fill-color);\n",
              "      border-top-color: var(--fill-color);\n",
              "    }\n",
              "    60% {\n",
              "      border-color: transparent;\n",
              "      border-right-color: var(--fill-color);\n",
              "    }\n",
              "    80% {\n",
              "      border-color: transparent;\n",
              "      border-right-color: var(--fill-color);\n",
              "      border-bottom-color: var(--fill-color);\n",
              "    }\n",
              "    90% {\n",
              "      border-color: transparent;\n",
              "      border-bottom-color: var(--fill-color);\n",
              "    }\n",
              "  }\n",
              "</style>\n",
              "\n",
              "  <script>\n",
              "    async function quickchart(key) {\n",
              "      const quickchartButtonEl =\n",
              "        document.querySelector('#' + key + ' button');\n",
              "      quickchartButtonEl.disabled = true;  // To prevent multiple clicks.\n",
              "      quickchartButtonEl.classList.add('colab-df-spinner');\n",
              "      try {\n",
              "        const charts = await google.colab.kernel.invokeFunction(\n",
              "            'suggestCharts', [key], {});\n",
              "      } catch (error) {\n",
              "        console.error('Error during call to suggestCharts:', error);\n",
              "      }\n",
              "      quickchartButtonEl.classList.remove('colab-df-spinner');\n",
              "      quickchartButtonEl.classList.add('colab-df-quickchart-complete');\n",
              "    }\n",
              "    (() => {\n",
              "      let quickchartButtonEl =\n",
              "        document.querySelector('#df-44831d86-5a1a-4a3c-aceb-675321b8b9bd button');\n",
              "      quickchartButtonEl.style.display =\n",
              "        google.colab.kernel.accessAllowed ? 'block' : 'none';\n",
              "    })();\n",
              "  </script>\n",
              "</div>\n",
              "\n",
              "    </div>\n",
              "  </div>\n"
            ],
            "application/vnd.google.colaboratory.intrinsic+json": {
              "type": "dataframe",
              "summary": "{\n  \"name\": \"pd\",\n  \"rows\": 1459,\n  \"fields\": [\n    {\n      \"column\": \"Id\",\n      \"properties\": {\n        \"dtype\": \"number\",\n        \"std\": 421,\n        \"min\": 1461,\n        \"max\": 2919,\n        \"num_unique_values\": 1459,\n        \"samples\": [\n          2782,\n          2297,\n          1874\n        ],\n        \"semantic_type\": \"\",\n        \"description\": \"\"\n      }\n    },\n    {\n      \"column\": \"SalePrice\",\n      \"properties\": {\n        \"dtype\": \"number\",\n        \"std\": 72683.86223286409,\n        \"min\": 49488.516,\n        \"max\": 555963.75,\n        \"num_unique_values\": 1455,\n        \"samples\": [\n          115750.47,\n          142167.94,\n          145039.16\n        ],\n        \"semantic_type\": \"\",\n        \"description\": \"\"\n      }\n    }\n  ]\n}"
            }
          },
          "metadata": {},
          "execution_count": 82
        }
      ]
    },
    {
      "cell_type": "code",
      "source": [],
      "metadata": {
        "id": "ObWZ8LzO7aDJ"
      },
      "execution_count": null,
      "outputs": []
    }
  ]
}